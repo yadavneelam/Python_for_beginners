{
  "nbformat": 4,
  "nbformat_minor": 0,
  "metadata": {
    "kernelspec": {
      "display_name": "Python 3",
      "language": "python",
      "name": "python3"
    },
    "language_info": {
      "codemirror_mode": {
        "name": "ipython",
        "version": 3
      },
      "file_extension": ".py",
      "mimetype": "text/x-python",
      "name": "python",
      "nbconvert_exporter": "python",
      "pygments_lexer": "ipython3",
      "version": "3.6.1"
    },
    "colab": {
      "name": "Exercise Solutions.ipynb",
      "provenance": [],
      "collapsed_sections": [],
      "include_colab_link": true
    }
  },
  "cells": [
    {
      "cell_type": "markdown",
      "metadata": {
        "id": "view-in-github",
        "colab_type": "text"
      },
      "source": [
        "<a href=\"https://colab.research.google.com/github/yadavneelam/Python_for_beginners/blob/master/Exercise_Solutions.ipynb\" target=\"_parent\"><img src=\"https://colab.research.google.com/assets/colab-badge.svg\" alt=\"Open In Colab\"/></a>"
      ]
    },
    {
      "cell_type": "markdown",
      "metadata": {
        "id": "ekYPo72W-SnL",
        "colab_type": "text"
      },
      "source": [
        "Exercise 2.15 (Variables, expressions, and statements)"
      ]
    },
    {
      "cell_type": "code",
      "metadata": {
        "id": "tR7HQGZl3gtp",
        "colab_type": "code",
        "colab": {
          "base_uri": "https://localhost:8080/",
          "height": 54
        },
        "outputId": "4bc6acc4-b439-47bc-b600-00c07efed301"
      },
      "source": [
        "name='enter your name'\n",
        "username=input(name)\n",
        "print(\"hello\",username)"
      ],
      "execution_count": 1,
      "outputs": [
        {
          "output_type": "stream",
          "text": [
            "enter your nameNeel\n",
            "hello Neel\n"
          ],
          "name": "stdout"
        }
      ]
    },
    {
      "cell_type": "code",
      "metadata": {
        "id": "IG5z-S-_-d54",
        "colab_type": "code",
        "colab": {
          "base_uri": "https://localhost:8080/",
          "height": 72
        },
        "outputId": "f0183669-9700-4d7a-d3ff-a1366cde1aa0"
      },
      "source": [
        "inp1=input('enter hour')\n",
        "hours=float(inp1)\n",
        "inp2=input('enter rate')\n",
        "rate=float(inp2)\n",
        "pay=round(hours*rate)\n",
        "print(pay)"
      ],
      "execution_count": 2,
      "outputs": [
        {
          "output_type": "stream",
          "text": [
            "enter hour35\n",
            "enter rate1.5\n",
            "52\n"
          ],
          "name": "stdout"
        }
      ]
    },
    {
      "cell_type": "code",
      "metadata": {
        "id": "ozHWWYSDBpMl",
        "colab_type": "code",
        "colab": {
          "base_uri": "https://localhost:8080/",
          "height": 54
        },
        "outputId": "7833348b-7a98-4535-c2ab-2f121f4bc9aa"
      },
      "source": [
        "temp=input('temperature in celsius')\n",
        "fah_temp=(float(temp)*1.8)+32\n",
        "print(fah_temp)"
      ],
      "execution_count": 3,
      "outputs": [
        {
          "output_type": "stream",
          "text": [
            "temperature in celsius36\n",
            "96.8\n"
          ],
          "name": "stdout"
        }
      ]
    },
    {
      "cell_type": "markdown",
      "metadata": {
        "id": "5iQvXP2bCcf7",
        "colab_type": "text"
      },
      "source": [
        "Exercise 3.11 : Conditional Execution "
      ]
    },
    {
      "cell_type": "code",
      "metadata": {
        "id": "ebS8UBqCRAmg",
        "colab_type": "code",
        "colab": {
          "base_uri": "https://localhost:8080/",
          "height": 72
        },
        "outputId": "1a95763b-3457-4b6d-dd0f-b64e5cb81676"
      },
      "source": [
        "input_1=input('enter hours')\n",
        "hours=int(input_1)\n",
        "input_2=input('enter rate')\n",
        "rate=float(input_2)\n",
        "if int(hours)>40:\n",
        "  pay1=(hours-40)*(float(rate)*1.5)+(40*rate)\n",
        "  print(pay1)\n",
        "else:\n",
        "    normal_pay=hours*rate\n",
        "    print(normal_pay)"
      ],
      "execution_count": 4,
      "outputs": [
        {
          "output_type": "stream",
          "text": [
            "enter hours45\n",
            "enter rate1.5\n",
            "71.25\n"
          ],
          "name": "stdout"
        }
      ]
    },
    {
      "cell_type": "code",
      "metadata": {
        "id": "Rw6OUbCbun1z",
        "colab_type": "code",
        "colab": {
          "base_uri": "https://localhost:8080/",
          "height": 72
        },
        "outputId": "72bd36a0-1451-4df3-90dd-2d495c693315"
      },
      "source": [
        "inp1=input('enter hours') \n",
        "try:\n",
        "    hours=int(inp1)\n",
        "    inp2=input('enter rate')\n",
        "    rate=int(inp2)\n",
        "    pay=(hours*rate)\n",
        "    print(pay)\n",
        "except:\n",
        "    print('error,enter numeric input')"
      ],
      "execution_count": 5,
      "outputs": [
        {
          "output_type": "stream",
          "text": [
            "enter hours40\n",
            "enter rate5\n",
            "200\n"
          ],
          "name": "stdout"
        }
      ]
    },
    {
      "cell_type": "code",
      "metadata": {
        "id": "ZLTTWWNpun2R",
        "colab_type": "code",
        "colab": {
          "base_uri": "https://localhost:8080/",
          "height": 54
        },
        "outputId": "db32b7c3-18b0-4011-e0e3-291afdc31d96"
      },
      "source": [
        "inp1=input('enter score')\n",
        "try:\n",
        "    score=float(inp1)\n",
        "\n",
        "    if score<=0.0 or score>=1.0:\n",
        "        print('bad score')\n",
        "    elif score>=0.9:\n",
        "        print('A') \n",
        "    elif score>=0.8:\n",
        "        print('B') \n",
        "    elif score>=0.7 :\n",
        "        print('C') \n",
        "    elif score>=0.6 :\n",
        "        print('D') \n",
        "    elif score<0.6 :\n",
        "        print('F') \n",
        "except:\n",
        "    print('bad score')"
      ],
      "execution_count": 6,
      "outputs": [
        {
          "output_type": "stream",
          "text": [
            "enter score0.7\n",
            "C\n"
          ],
          "name": "stdout"
        }
      ]
    },
    {
      "cell_type": "markdown",
      "metadata": {
        "id": "o-OcGwKbZxzZ",
        "colab_type": "text"
      },
      "source": [
        "Exercise 4.14 (Functions)"
      ]
    },
    {
      "cell_type": "code",
      "metadata": {
        "id": "37pqq2zDun3N",
        "colab_type": "code",
        "colab": {
          "base_uri": "https://localhost:8080/",
          "height": 35
        },
        "outputId": "983e7c69-5386-489c-fca6-9cc8122fbb5b"
      },
      "source": [
        "def computepay(hours,rate):\n",
        "    pay1=(hours-40)*(rate*1.5)+(40*rate)\n",
        "    return pay1\n",
        "Pay=computepay(45,10)\n",
        "print(Pay)"
      ],
      "execution_count": 7,
      "outputs": [
        {
          "output_type": "stream",
          "text": [
            "475.0\n"
          ],
          "name": "stdout"
        }
      ]
    },
    {
      "cell_type": "code",
      "metadata": {
        "id": "J2QPiRdfun3a",
        "colab_type": "code",
        "colab": {
          "base_uri": "https://localhost:8080/",
          "height": 54
        },
        "outputId": "7ea5d81d-d7ac-4d46-b432-5d88b5bbe8c0"
      },
      "source": [
        "score=input('enter score')\n",
        "try:\n",
        "    def computegrade():\n",
        "        if float(score) >= 0.9 and float(score) <= 1.0:\n",
        "            print(\"A\")\n",
        "        elif float(score) >= 0.8 and float(score) <= 0.9:\n",
        "            print(\"B\")\n",
        "        elif float(score) >= 0.7 and float(score) <= 0.8:\n",
        "            print(\"C\")\n",
        "        elif float(score) >= 0.6 and float(score) <= 0.7:\n",
        "            print(\"D\")\n",
        "        elif float(score) > 0 and float(score) <= 0.6:\n",
        "            print(\"F\")\n",
        "        else:\n",
        "            print('bad score')\n",
        "    computegrade()\n",
        "except:\n",
        "    print('bad score')"
      ],
      "execution_count": 8,
      "outputs": [
        {
          "output_type": "stream",
          "text": [
            "enter score0.8\n",
            "B\n"
          ],
          "name": "stdout"
        }
      ]
    },
    {
      "cell_type": "markdown",
      "metadata": {
        "id": "QeJ7Bhp9amNA",
        "colab_type": "text"
      },
      "source": [
        "Exercises 5.9 (Iteration)"
      ]
    },
    {
      "cell_type": "code",
      "metadata": {
        "id": "ggw7a4of4kwz",
        "colab_type": "code",
        "colab": {
          "base_uri": "https://localhost:8080/",
          "height": 127
        },
        "outputId": "379dd228-149a-4210-faff-54b96c629951"
      },
      "source": [
        "total = 0.0\n",
        "count = 0.0\n",
        "average = 0.0\n",
        "while True:                               \n",
        "    num = input(\"Enter a number: \")\n",
        "    if num == 'done': break                         \n",
        "    try:\n",
        "     num=int(num)\n",
        "     count+=1\n",
        "     total= total+num\n",
        "     if count:\n",
        "       average=total/count              \n",
        "    except:\n",
        "      print(\"invalid input\")  \n",
        "      continue \n",
        "print(total,count,average)"
      ],
      "execution_count": 9,
      "outputs": [
        {
          "output_type": "stream",
          "text": [
            "Enter a number: 5\n",
            "Enter a number: 2\n",
            "Enter a number: 4\n",
            "Enter a number: 5\n",
            "Enter a number: done\n",
            "16.0 4.0 4.0\n"
          ],
          "name": "stdout"
        }
      ]
    },
    {
      "cell_type": "code",
      "metadata": {
        "id": "5yCwrRvjk4Sr",
        "colab_type": "code",
        "colab": {
          "base_uri": "https://localhost:8080/",
          "height": 127
        },
        "outputId": "b1d462cf-831b-4402-efac-0debcc268c07"
      },
      "source": [
        "smallest = None\n",
        "largest = None\n",
        "while True:                               \n",
        "    num = input(\"Enter a number: \")\n",
        "    if num == 'done': break                         \n",
        "    try:\n",
        "     num=int(num)\n",
        "     if largest is None or largest < num: largest =num \n",
        "     if smallest is None or smallest > num: smallest =num              \n",
        "    except:\n",
        "      print(\"invalid input\")  \n",
        "      continue \n",
        "print(\"Maximum is\",largest)\n",
        "print(\"Minimum is\",smallest)"
      ],
      "execution_count": 10,
      "outputs": [
        {
          "output_type": "stream",
          "text": [
            "Enter a number: 5\n",
            "Enter a number: 2\n",
            "Enter a number: 8\n",
            "Enter a number: done\n",
            "Maximum is 8\n",
            "Minimum is 2\n"
          ],
          "name": "stdout"
        }
      ]
    },
    {
      "cell_type": "markdown",
      "metadata": {
        "id": "XqdN-64F0MO9",
        "colab_type": "text"
      },
      "source": [
        "Exercise 6.14 (Strings)"
      ]
    },
    {
      "cell_type": "code",
      "metadata": {
        "id": "18_NNnOCwSPx",
        "colab_type": "code",
        "colab": {
          "base_uri": "https://localhost:8080/",
          "height": 54
        },
        "outputId": "31adfce4-a178-45b9-a600-ce3004fbf977"
      },
      "source": [
        "str='X-DSPAM-Confidence:0.8475'\n",
        "atpos=str.find(':')\n",
        "#print(atpos)\n",
        "host=str[atpos+1:atpos+8]\n",
        "change_to_float=float(host)\n",
        "print(change_to_float)\n",
        "type(change_to_float)\n",
        "\n",
        "\n"
      ],
      "execution_count": 12,
      "outputs": [
        {
          "output_type": "stream",
          "text": [
            "0.8475\n"
          ],
          "name": "stdout"
        },
        {
          "output_type": "execute_result",
          "data": {
            "text/plain": [
              "float"
            ]
          },
          "metadata": {
            "tags": []
          },
          "execution_count": 12
        }
      ]
    }
  ]
}